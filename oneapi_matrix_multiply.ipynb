{
 "cells": [
  {
   "cell_type": "code",
   "execution_count": 1,
   "id": "b565e794-8e3d-4fce-afd9-46649a461f9c",
   "metadata": {
    "tags": []
   },
   "outputs": [
    {
     "name": "stdout",
     "output_type": "stream",
     "text": [
      "Overwriting oneapi_matrix_multiply.cpp\n"
     ]
    }
   ],
   "source": [
    "%%writefile oneapi_matrix_multiply.cpp\n",
    "//==============================================================\n",
    "// Matrix Multiplication using OneAPI: SYCL\n",
    "//==============================================================\n",
    "// Copyright © 2024 Your Name\n",
    "//\n",
    "// SPDX-License-Identifier: MIT\n",
    "// =============================================================\n",
    "\n",
    "#include <CL/sycl.hpp>          // Incluye la biblioteca SYCL\n",
    "#include <iostream>             // Incluye la biblioteca para entrada/salida estándar\n",
    "#include <vector>               // Incluye la biblioteca para trabajar con vectores\n",
    "#include <fstream>              // Incluye la biblioteca para trabajar con archivos\n",
    "\n",
    "using namespace cl::sycl;       // Utiliza el espacio de nombres SYCL\n",
    "\n",
    "int main(int argc, char* argv[]) {\n",
    "    // Verifica si el número de argumentos es correcto\n",
    "    if (argc != 2) {\n",
    "        std::cerr << \"Usage: \" << argv[0] << \" <output_file>\" << std::endl;\n",
    "        return 1;\n",
    "    }\n",
    "\n",
    "    const size_t N = 4;    // Tamaño de las matrices (N x N)\n",
    "\n",
    "    // Inicializar matrices de entrada\n",
    "    std::vector<float> matrix_a(N * N, 2.0f);   // Matriz A llena de 2.0\n",
    "    std::vector<float> matrix_b(N * N, 3.0f);   // Matriz B llena de 3.0\n",
    "    std::vector<float> matrix_c(N * N, 0.0f);   // Matriz C inicializada en 0.0\n",
    "\n",
    "    try {\n",
    "        // Crear un objeto queue para ejecutar tareas SYCL en el dispositivo predeterminado\n",
    "        queue my_queue;\n",
    "\n",
    "        // Crear buffers para las matrices en el dispositivo\n",
    "        buffer<float, 2> buffer_a(matrix_a.data(), range<2>(N, N));\n",
    "        buffer<float, 2> buffer_b(matrix_b.data(), range<2>(N, N));\n",
    "        buffer<float, 2> buffer_c(matrix_c.data(), range<2>(N, N));\n",
    "\n",
    "        // Ejecutar el kernel de multiplicación de matrices\n",
    "        my_queue.submit([&](handler& h) {\n",
    "            auto a = buffer_a.get_access<access::mode::read>(h);\n",
    "            auto b = buffer_b.get_access<access::mode::read>(h);\n",
    "            auto c = buffer_c.get_access<access::mode::write>(h);\n",
    "\n",
    "            h.parallel_for<class matrix_multiply>(range<2>(N, N), [=](id<2> index) {\n",
    "                float sum = 0.0f;\n",
    "                for (size_t k = 0; k < N; ++k) {\n",
    "                    sum += a[index[0]][k] * b[k][index[1]];  // Calcula la suma de la multiplicación de los elementos correspondientes\n",
    "                }\n",
    "                c[index] = sum;   // Asigna el resultado de la multiplicación a la matriz C\n",
    "            });\n",
    "        });\n",
    "\n",
    "        // Esperar a que todas las tareas en la cola se completen\n",
    "        my_queue.wait();\n",
    "\n",
    "        // Imprimir la matriz resultante en la consola y escribirla en un archivo\n",
    "        std::ofstream output_file(argv[1]);   // Abre un archivo para escribir la salida\n",
    "        for (size_t i = 0; i < N; ++i) {\n",
    "            for (size_t j = 0; j < N; ++j) {\n",
    "                std::cout << matrix_c[i * N + j] << \" \";   // Imprime cada elemento en la consola\n",
    "                output_file << matrix_c[i * N + j] << \" \"; // Escribe cada elemento en el archivo\n",
    "            }\n",
    "            std::cout << \"\\n\";        // Salto de línea en la consola\n",
    "            output_file << \"\\n\";      // Salto de línea en el archivo\n",
    "        }\n",
    "        output_file.close();   // Cierra el archivo de salida\n",
    "    } catch (const cl::sycl::exception& e) {\n",
    "        std::cerr << \"SYCL Exception: \" << e.what() << std::endl;   // Captura y muestra excepciones de SYCL\n",
    "        return 1;\n",
    "    }\n",
    "\n",
    "    return 0;   // Retorna 0 si la ejecución es exitosa\n",
    "}\n",
    "\n",
    "\n",
    "\n"
   ]
  },
  {
   "cell_type": "code",
   "execution_count": 2,
   "id": "e5984174-1414-4d91-b482-35f7628808ef",
   "metadata": {},
   "outputs": [],
   "source": [
    "!icpx -o matrix_multiply oneapi_matrix_multiply.cpp -fsycl\n"
   ]
  },
  {
   "cell_type": "code",
   "execution_count": 3,
   "id": "eaa26fff-93a5-4c2d-9f0f-12dbb2400583",
   "metadata": {},
   "outputs": [
    {
     "name": "stdout",
     "output_type": "stream",
     "text": [
      "24 24 24 24 \n",
      "24 24 24 24 \n",
      "24 24 24 24 \n",
      "24 24 24 24 \n"
     ]
    }
   ],
   "source": [
    "!./matrix_multiply output.txt\n"
   ]
  },
  {
   "cell_type": "code",
   "execution_count": 22,
   "id": "ec2f573a-1713-4ff6-8900-0ec4185082b9",
   "metadata": {},
   "outputs": [],
   "source": [
    "!chmod +x q\n"
   ]
  },
  {
   "cell_type": "code",
   "execution_count": null,
   "id": "da0fe02b-5721-4e24-b834-ea4362b708d5",
   "metadata": {},
   "outputs": [],
   "source": [
    "!./q oneapi_matrix_multiply.cpp\n"
   ]
  },
  {
   "cell_type": "code",
   "execution_count": 26,
   "id": "dca657b9-2571-4917-9da8-971d2e1703b4",
   "metadata": {},
   "outputs": [],
   "source": [
    "!chmod +x oneapi_matrix_multiply.cpp"
   ]
  },
  {
   "cell_type": "code",
   "execution_count": null,
   "id": "e9e95d23-0ff6-4364-a7b8-e68297996f57",
   "metadata": {},
   "outputs": [],
   "source": [
    "!./q oneapi_matrix_multiply.cpp"
   ]
  },
  {
   "cell_type": "code",
   "execution_count": null,
   "id": "d52bcb5e-6eb3-4b3d-9d30-a678d1ed1f1a",
   "metadata": {},
   "outputs": [],
   "source": [
    "! chmod 755 q; chmod 755 run_oneapi_matrix_multiply.sh;if [ -x \"$(command -v qsub)\" ]; then ./q run_oneapi_matrix_multiply.sh; else ./run_oneapi_matrix_multiply.sh; fi"
   ]
  },
  {
   "cell_type": "code",
   "execution_count": null,
   "id": "47c063a5-086d-404e-b4f4-f6242fe787a6",
   "metadata": {},
   "outputs": [],
   "source": []
  }
 ],
 "metadata": {
  "kernelspec": {
   "display_name": "Python 3 (Intel® oneAPI 2023.2)",
   "language": "python",
   "name": "c009-intel_distribution_of_python_3_oneapi-beta05-python"
  },
  "language_info": {
   "codemirror_mode": {
    "name": "ipython",
    "version": 3
   },
   "file_extension": ".py",
   "mimetype": "text/x-python",
   "name": "python",
   "nbconvert_exporter": "python",
   "pygments_lexer": "ipython3",
   "version": "3.9.16"
  }
 },
 "nbformat": 4,
 "nbformat_minor": 5
}
